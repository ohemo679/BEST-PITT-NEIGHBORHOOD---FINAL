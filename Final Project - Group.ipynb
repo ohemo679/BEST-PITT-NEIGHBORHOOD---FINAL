{
 "cells": [
  {
   "cell_type": "markdown",
   "metadata": {},
   "source": [
    "# INTRODUCTION"
   ]
  },
  {
   "cell_type": "markdown",
   "metadata": {},
   "source": [
    "For this project, we are exploring what the best neighborhood in Pittsburgh is based on our metric of livaility. We decided that the best way to figure out what the best neighborhood in Pittsburgh is would be to measure how livable the neighborhoods are based on different factors such as safety, walkability, schools and affordability. "
   ]
  },
  {
   "cell_type": "markdown",
   "metadata": {},
   "source": [
    "# THE METRIC"
   ]
  },
  {
   "cell_type": "markdown",
   "metadata": {},
   "source": [
    "Our metric of liveabilty is based on general factors a family would consider when trying to find a neighborhood to live in. The factors/submetrics are safety, walkability, schools and affordability. We figured that a neighborhood that ranks high in the data for all of these factors would be the best neighborhood. \n",
    "(needs what dataset we are using)"
   ]
  },
  {
   "cell_type": "markdown",
   "metadata": {},
   "source": [
    "# THE BEST NEIGHBORHOOD"
   ]
  },
  {
   "cell_type": "code",
   "execution_count": null,
   "metadata": {},
   "outputs": [],
   "source": []
  }
 ],
 "metadata": {
  "kernelspec": {
   "display_name": "Python 3",
   "language": "python",
   "name": "python3"
  },
  "language_info": {
   "codemirror_mode": {
    "name": "ipython",
    "version": 3
   },
   "file_extension": ".py",
   "mimetype": "text/x-python",
   "name": "python",
   "nbconvert_exporter": "python",
   "pygments_lexer": "ipython3",
   "version": "3.8.3"
  }
 },
 "nbformat": 4,
 "nbformat_minor": 4
}
